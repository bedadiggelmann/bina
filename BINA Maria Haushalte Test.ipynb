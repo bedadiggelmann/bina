{
  "nbformat": 4,
  "nbformat_minor": 0,
  "metadata": {
    "colab": {
      "provenance": [],
      "include_colab_link": true
    },
    "kernelspec": {
      "name": "python3",
      "display_name": "Python 3"
    },
    "language_info": {
      "name": "python"
    }
  },
  "cells": [
    {
      "cell_type": "markdown",
      "metadata": {
        "id": "view-in-github",
        "colab_type": "text"
      },
      "source": [
        "<a href=\"https://colab.research.google.com/github/bedadiggelmann/bina/blob/main/BINA%20Maria%20Haushalte%20Test.ipynb\" target=\"_parent\"><img src=\"https://colab.research.google.com/assets/colab-badge.svg\" alt=\"Open In Colab\"/></a>"
      ]
    },
    {
      "cell_type": "code",
      "source": [
        "import pandas as pd\n",
        "import matplotlib.pyplot as plt"
      ],
      "metadata": {
        "id": "Or9A5pac2d9Q"
      },
      "execution_count": 2,
      "outputs": []
    },
    {
      "cell_type": "markdown",
      "source": [
        "# Helper Functions"
      ],
      "metadata": {
        "id": "xotOplfiL8h8"
      }
    },
    {
      "cell_type": "markdown",
      "source": [
        "\n",
        "\n",
        "**Data Loading Functions**\n",
        "\n",
        "This script loads data from a CSV file. Ensure that the path and the encoding match the data file specifics."
      ],
      "metadata": {
        "id": "tJ_fMeqQ2fmQ"
      }
    },
    {
      "cell_type": "code",
      "source": [
        "def load_data(filepath, encoding='ISO-8859-1', delimiter=';'):\n",
        "    return pd.read_csv(filepath, encoding=encoding, delimiter=delimiter)"
      ],
      "metadata": {
        "id": "OqyfSlww2jRF"
      },
      "execution_count": 3,
      "outputs": []
    },
    {
      "cell_type": "markdown",
      "source": [
        "**Data Filtering Functions**\n",
        "\n",
        "Filters the dataset for specific municipalities using a unique identifier contained in a column."
      ],
      "metadata": {
        "id": "5f-w603I2mr3"
      }
    },
    {
      "cell_type": "code",
      "source": [
        "def filter_data_by_kanton_or_gemeinde(data, column_name, kanton_or_gemeinde_code):\n",
        "    return data[data[column_name].str.contains(kanton_or_gemeinde_code)]"
      ],
      "metadata": {
        "id": "zZjIPOpJ2oro"
      },
      "execution_count": 4,
      "outputs": []
    },
    {
      "cell_type": "markdown",
      "source": [
        "**Data Extraction Functions**\n",
        "\n",
        "Extracts yearly data for given conditions and converts non-numeric entries appropriately."
      ],
      "metadata": {
        "id": "tTGvwcm12sWr"
      }
    },
    {
      "cell_type": "code",
      "source": [
        "def extract_yearly_data(gemeinde_data, condition_value, typ_value, start_col=4):\n",
        "    yearly_data = gemeinde_data[\n",
        "        (gemeinde_data[\"Anzahl/Anteil\"] == condition_value) &\n",
        "        (gemeinde_data[\"Leerwohnung (Typ)\"].str.contains(typ_value, na=False))\n",
        "    ].iloc[:, start_col:]\n",
        "    yearly_data = yearly_data.replace('...', pd.NA)  # Replace '...' with NaN\n",
        "    yearly_data = yearly_data.apply(pd.to_numeric, errors='coerce')  # Convert to numeric, coercing errors\n",
        "    years = yearly_data.columns.tolist()  # Get the list of years (column names)\n",
        "    return yearly_data.iloc[0] if not yearly_data.empty else pd.Series([pd.NA] * len(years), index=years)\n",
        "\n",
        "# Gleiches auch für Anzahl Haushalte\n",
        "def extract_yearly_data_2(gemeinde_data_2, start_col=2):\n",
        "    yearly_data_2 = gemeinde_data_2\n",
        "    yearly_data_2 = yearly_data_2.replace('...', pd.NA)  # Replace '...' with NaN\n",
        "    yearly_data_2 = yearly_data_2.apply(pd.to_numeric, errors='coerce')  # Convert to numeric, coercing errors\n",
        "    years_2 = yearly_data_2.columns.tolist()  # Get the list of years (column names)\n",
        "    return yearly_data_2.iloc[0] if not yearly_data_2.empty else pd.Series([pd.NA] * len(years_2), index=years_2)"
      ],
      "metadata": {
        "id": "Pv7GOYSr2vvq"
      },
      "execution_count": 5,
      "outputs": []
    },
    {
      "cell_type": "markdown",
      "source": [
        "**Aggregate Data Functions**"
      ],
      "metadata": {
        "id": "apMfQ3MmB-Uo"
      }
    },
    {
      "cell_type": "code",
      "source": [
        "# Helper function to map municipalities to Wahlkreis\n",
        "def map_municipalities_to_wahlkreis(csv_data):\n",
        "    wahlkreis_mapping = {\n",
        "        # Example:\n",
        "        # '3201': 'Wahlkreis Rorschach',\n",
        "        # '3202': 'Wahlkreis St. Gallen',\n",
        "    }\n",
        "    # Update the dataset with a new column for Wahlkreis based on the mapping\n",
        "    csv_data['Wahlkreis'] = csv_data['Grossregion (<<) / Kanton (-) / Gemeinde (......)'].map(wahlkreis_mapping)\n",
        "    return csv_data\n",
        "\n",
        "# Gleiches auch für Anzahl Haushalte\n",
        "def aggregate_data_by_wahlkreis(csv_data, wahlkreis_name):\n",
        "    # Filter data by Wahlkreis\n",
        "    wahlkreis_data = csv_data[csv_data['Wahlkreis'] == wahlkreis_name]\n",
        "    # Sum the data, replace 'Data_Column_Name' with the actual column name\n",
        "    aggregated_data = wahlkreis_data.groupby('Wahlkreis').sum()\n",
        "    return aggregated_data['Data_Column_Name']"
      ],
      "metadata": {
        "id": "Yylrs-IbCCGK"
      },
      "execution_count": 6,
      "outputs": []
    },
    {
      "cell_type": "markdown",
      "source": [
        "**Plotting Functions**\n",
        "\n",
        "Functions to plot time series and bar charts for visual comparisons."
      ],
      "metadata": {
        "id": "yHn6pBB826ly"
      }
    },
    {
      "cell_type": "code",
      "source": [
        "def plot_line_chart(data_dict, title, xlabel, ylabel):\n",
        "    fig, ax = plt.subplots(figsize=(14, 6))\n",
        "    for label, data in data_dict.items():\n",
        "        ax.plot(data.index, data.values, label=label, marker='o')\n",
        "    ax.set_title(title)\n",
        "    ax.set_xlabel(xlabel)\n",
        "    ax.set_ylabel(ylabel)\n",
        "    ax.legend()\n",
        "    ax.grid(True)\n",
        "    plt.tight_layout()\n",
        "    plt.show()\n",
        "\n",
        "\n",
        "def plot_bar_chart(data_dict, title, xlabel, ylabel):\n",
        "    fig, ax = plt.subplots(figsize=(14, 6))\n",
        "    for label, data in data_dict.items():\n",
        "        positions = range(len(data.index))\n",
        "        ax.bar(positions, data.values, label=label)\n",
        "    ax.set_title(title)\n",
        "    ax.set_xlabel(xlabel)\n",
        "    ax.set_ylabel(ylabel)\n",
        "    ax.set_ylim([0, 3])\n",
        "    ax.set_xticks(range(len(data.index)))\n",
        "    ax.set_xticklabels(data.index, rotation=45)\n",
        "    ax.legend()\n",
        "    ax.grid(True, which='both', linestyle='--', linewidth=0.5)\n",
        "    plt.tight_layout()\n",
        "    plt.show()"
      ],
      "metadata": {
        "id": "Qdp0BoG528Mt"
      },
      "execution_count": 7,
      "outputs": []
    },
    {
      "cell_type": "markdown",
      "source": [
        "# Usage"
      ],
      "metadata": {
        "id": "2Kw0EaPqL5jV"
      }
    },
    {
      "cell_type": "markdown",
      "source": [
        "\n",
        "\n",
        "**1. Load and Filter Data**\n",
        "\n",
        "Load and filter data for each municipality and the canton."
      ],
      "metadata": {
        "id": "fTgd1IYwHyFh"
      }
    },
    {
      "cell_type": "code",
      "source": [
        "csv_path = 'kanton_stgallen.csv'\n",
        "csv_data = load_data(csv_path)\n",
        "\n",
        "kanton_sg_data = filter_data_by_kanton_or_gemeinde(csv_data, 'Grossregion (<<) / Kanton (-) / Gemeinde (......)', 'Kanton St. Gallen')\n",
        "gemeinde_haeggenschwil_data = filter_data_by_kanton_or_gemeinde(csv_data, 'Grossregion (<<) / Kanton (-) / Gemeinde (......)', '3201')\n",
        "gemeinde_muolen_data = filter_data_by_kanton_or_gemeinde(csv_data, 'Grossregion (<<) / Kanton (-) / Gemeinde (......)', '3202')\n",
        "\n",
        "#Gleiches auch für Anzahl Haushalte\n",
        "csv_path_2 = 'Privathaushalte St. Gallen nach Jahr, Ort und Haushaltsgrösse.csv'\n",
        "csv_data_2 = load_data(csv_path_2)\n",
        "\n",
        "kanton_sg_data_2 = filter_data_by_kanton_or_gemeinde(csv_data_2, 'Kanton (-) / Bezirk (>>) / Gemeinde (......)', '=- St. Gallen')\n",
        "gemeinde_haeggenschwil_data_2 = filter_data_by_kanton_or_gemeinde(csv_data_2, 'Kanton (-) / Bezirk (>>) / Gemeinde (......)', '3201')\n",
        "gemeinde_muolen_data_2 = filter_data_by_kanton_or_gemeinde(csv_data_2, 'Kanton (-) / Bezirk (>>) / Gemeinde (......)', '3202')\n"
      ],
      "metadata": {
        "id": "ebSIgSEsHvb-"
      },
      "execution_count": 10,
      "outputs": []
    },
    {
      "cell_type": "markdown",
      "source": [
        "**2. Extract Leerwohnungsanzahl and Leerwohnungsziffer for municipalities**\n"
      ],
      "metadata": {
        "id": "GLHYmxZF3Ccd"
      }
    },
    {
      "cell_type": "code",
      "source": [
        "# Leerwohnungsanzahl\n",
        "kanton_sg_leerwohnungsanzahl  = extract_yearly_data(\n",
        "    kanton_sg_data,\n",
        "    \"Anzahl\",\n",
        "    \"Leer stehende Wohnung - Total\"\n",
        "    )\n",
        "\n",
        "haeggenschwil_leerwohnungsanzahl  = extract_yearly_data(\n",
        "    gemeinde_haeggenschwil_data,\n",
        "    \"Anzahl\",\n",
        "    \"Leer stehende Wohnung - Total\"\n",
        "    )\n",
        "\n",
        "muolen_leerwohnungsanzahl = extract_yearly_data(\n",
        "    gemeinde_muolen_data,\n",
        "    \"Anzahl\",\n",
        "    \"Leer stehende Wohnung - Total\"\n",
        "    )\n",
        "\n",
        "# Leerwohnungsziffer\n",
        "kanton_sg_leerwohnungsziffer = extract_yearly_data(\n",
        "    kanton_sg_data,\n",
        "    'Leerwohnungsziffer',\n",
        "    'Leer stehende Wohnung - Total'\n",
        ")\n",
        "\n",
        "haeggenschwil_leerwohnungsziffer = extract_yearly_data(\n",
        "    gemeinde_haeggenschwil_data,\n",
        "    'Leerwohnungsziffer',\n",
        "    'Leer stehende Wohnung - Total'\n",
        ")\n",
        "\n",
        "muolen_leerwohnungsziffer = extract_yearly_data(\n",
        "    gemeinde_muolen_data,\n",
        "    'Leerwohnungsziffer',\n",
        "    'Leer stehende Wohnung - Total'\n",
        ")\n",
        "\n",
        "#Gleiches auch für Anzahl Haushalte\n",
        "kanton_sg_anz_haushalte  = extract_yearly_data_2(\n",
        "    kanton_sg_data_2\n",
        "    )\n",
        "\n",
        "haeggenschwil_anz_haushalte = extract_yearly_data_2(\n",
        "    gemeinde_haeggenschwil_data_2\n",
        "    )\n",
        "\n",
        "muolen_leerwohnungsanzahl = extract_yearly_data_2(\n",
        "    gemeinde_muolen_data_2\n",
        "    )\n",
        "\n",
        "\n"
      ],
      "metadata": {
        "id": "xSP3SxMg3HL6"
      },
      "execution_count": 12,
      "outputs": []
    },
    {
      "cell_type": "markdown",
      "source": [
        "**3. Plot the Data**"
      ],
      "metadata": {
        "id": "6SagKMIUKYu9"
      }
    },
    {
      "cell_type": "code",
      "source": [
        "\n",
        "\n",
        "# Anzahl der Leerwohnungen über die Jahre\n",
        "plot_line_chart(\n",
        "    {\n",
        "        'Häggenschwil': haeggenschwil_leerwohnungsanzahl,\n",
        "        'Muolen': muolen_leerwohnungsanzahl\n",
        "    },\n",
        "    'Anzahl der Leerwohnungen über die Jahre',\n",
        "    'Jahr',\n",
        "    'Anzahl der Leerwohnungen'\n",
        ")\n",
        "\n",
        "# Leerwohnungsziffer über die Jahre\n",
        "plot_bar_chart(\n",
        "    {\n",
        "        'Kanton St. Gallen': kanton_sg_leerwohnungsziffer\n",
        "    },\n",
        "    'Leerwohnungsziffer über die Jahre im Kanton St. Gallen',\n",
        "    'Jahr',\n",
        "    'Leerwohnungsziffer (%)'\n",
        ")\n",
        "\n",
        "plot_line_chart(\n",
        "    {\n",
        "        'Häggenschwil': haeggenschwil_leerwohnungsziffer,\n",
        "        'Muolen': muolen_leerwohnungsziffer\n",
        "    },\n",
        "    'Leerwohnungsziffer über die Jahre',\n",
        "    'Jahr',\n",
        "    'Leerwohnungsziffer (%)'\n",
        ")\n"
      ],
      "metadata": {
        "colab": {
          "base_uri": "https://localhost:8080/",
          "height": 211
        },
        "id": "cloHtLN1_D1G",
        "outputId": "670197b0-cc5c-4527-d36b-fbefa3fc8071"
      },
      "execution_count": 5,
      "outputs": [
        {
          "output_type": "error",
          "ename": "NameError",
          "evalue": "name 'plot_line_chart' is not defined",
          "traceback": [
            "\u001b[0;31m---------------------------------------------------------------------------\u001b[0m",
            "\u001b[0;31mNameError\u001b[0m                                 Traceback (most recent call last)",
            "\u001b[0;32m<ipython-input-5-7ea5720e32cc>\u001b[0m in \u001b[0;36m<cell line: 2>\u001b[0;34m()\u001b[0m\n\u001b[1;32m      1\u001b[0m \u001b[0;31m# Anzahl der Leerwohnungen über die Jahre\u001b[0m\u001b[0;34m\u001b[0m\u001b[0;34m\u001b[0m\u001b[0m\n\u001b[0;32m----> 2\u001b[0;31m plot_line_chart(\n\u001b[0m\u001b[1;32m      3\u001b[0m     {\n\u001b[1;32m      4\u001b[0m         \u001b[0;34m'Häggenschwil'\u001b[0m\u001b[0;34m:\u001b[0m \u001b[0mhaeggenschwil_leerwohnungsanzahl\u001b[0m\u001b[0;34m,\u001b[0m\u001b[0;34m\u001b[0m\u001b[0;34m\u001b[0m\u001b[0m\n\u001b[1;32m      5\u001b[0m         \u001b[0;34m'Muolen'\u001b[0m\u001b[0;34m:\u001b[0m \u001b[0mmuolen_leerwohnungsanzahl\u001b[0m\u001b[0;34m\u001b[0m\u001b[0;34m\u001b[0m\u001b[0m\n",
            "\u001b[0;31mNameError\u001b[0m: name 'plot_line_chart' is not defined"
          ]
        }
      ]
    }
  ]
}