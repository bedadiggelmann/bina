{
  "nbformat": 4,
  "nbformat_minor": 0,
  "metadata": {
    "colab": {
      "provenance": [],
      "include_colab_link": true
    },
    "kernelspec": {
      "name": "python3",
      "display_name": "Python 3"
    },
    "language_info": {
      "name": "python"
    }
  },
  "cells": [
    {
      "cell_type": "markdown",
      "metadata": {
        "id": "view-in-github",
        "colab_type": "text"
      },
      "source": [
        "<a href=\"https://colab.research.google.com/github/bedadiggelmann/bina/blob/main/Dokumentation_BINA.ipynb\" target=\"_parent\"><img src=\"https://colab.research.google.com/assets/colab-badge.svg\" alt=\"Open In Colab\"/></a>"
      ]
    },
    {
      "cell_type": "markdown",
      "source": [
        "#**Analyse der Entwicklung des Wohnraums im Kanton St. Gallen**\n",
        "\n",
        "Eingereicht am 21.06.2024 von:\n",
        "\n",
        "Maria Näf\n",
        "\n",
        "Nathalie Kern\n",
        "\n",
        "Beda Diggelmann\n",
        "\n",
        "Pascal Ammetter\n",
        "\n",
        "## **Management Summary**\n",
        "**Ausgangslage / Problemstellung**\n",
        "\n",
        "**Datengestützte Entscheidungsfindung**\n",
        "\n",
        "**Analyseergebnisse**\n",
        "\n",
        "## **1 Einleitung, Ausgangslage, Zielsetzung**\n",
        "\n",
        "### **1.1 Einleitung**\n",
        "\n",
        "### **1.2 Ausgangslage**\n",
        "\n",
        "\n",
        "### **1.3 Zielsetzung**\n",
        "\n",
        "Das Projektteam hat sich für diese Arbeit die folgenden Ziele gesetzt:\n",
        "1.\tDie Entwicklung der Leerwohnungsziffer von 1990 bis 2023 ist be-zirkweise für den gesamten Kanton St. Gallen untersucht.\n",
        "2.\tDie Entwicklung des Wohnraumbestandes von 1990 bis 2023 ist pro Gemeinde für den gesamten Kanton St. Gallen untersucht.\n",
        "3.\tEs ist erhoben, ob das Bevölkerungswachstum und das Wohnraum-wachstum im Kanton St. Gallen korrelieren\n",
        "4.\n",
        "### **1.4 Forschungsfragen**\n",
        "\n",
        "Abgeleitet davon befasst sich das Projektteam mit folgenden Forschungs-fragen:\n",
        "1.\tWie entwickelte sich die Leerwohnungsziffer in den letzten Jah-ren?\n",
        "2.\tKorrelieren das Bevölkerungswachstum und das Wohnraumwachstum un-ter Abzug der Leerwohnungsziffer?\n",
        "3.\tWie stark hat der Wohnraumbestand in den einzelnen Gemeinden des Kantons St.Gallen zu- oder abgenommen?\n",
        "\n",
        "\n",
        "### **1.5 Vorgehen**\n",
        "\n",
        "## **2 Definieren der Ziele**\n",
        "\n",
        "## **3 Datensammlung**\n",
        "\n",
        "## **4 Analyse der gesammelten Daten**\n",
        "\n",
        "## **5 Präsentation der Analyseergebnisse**\n",
        "\n",
        "## **6 Schlussfolgerungen**\n",
        "\n",
        "### **6.1 Implikationen für die Stadtplanung und Immobilienwirtschaft**\n",
        "### **6.2 Empfehlungen für politische Entscheidungsträger**\n",
        "\n",
        "## **7 Fazit und kritische Würdigung der Ergebnisse**\n",
        "\n",
        "## **8 Literaturverzeichnis**\n",
        "\n",
        "## **9 Eigenständigkeitserklärung**\n"
      ],
      "metadata": {
        "id": "9DmTzokhznKL"
      }
    }
  ]
}